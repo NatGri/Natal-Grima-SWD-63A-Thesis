{
 "cells": [
  {
   "cell_type": "markdown",
   "metadata": {},
   "source": [
    "# Training Code:\n",
    "\n",
    "## Experiments To Run:\n",
    "\n",
    "### Datasets Comparisons:\n",
    "COCO - Kaggle - Novel\n",
    "\n",
    "### Configurations:\n",
    "\n",
    "#### Epochs:\n",
    "80 - 225 - 300 \n",
    "\n",
    "numbers acquired from papers below:\n",
    "https://www.mdpi.com/1424-8220/22/21/8192/pdf\n",
    "https://www.mdpi.com/2076-3417/11/13/6006/htm\n",
    "\n",
    "#### Batch:\n",
    "8 - 16\n",
    "\n",
    "\n",
    "\n",
    "exp 2 -> 80 epoch 8 batch coco dataset\n",
    "\n",
    "exp 3 -> 225 epoch 16 batch coco dataset -> training stopped at 167 as no change was detected in precision"
   ]
  },
  {
   "cell_type": "code",
   "execution_count": 1,
   "metadata": {},
   "outputs": [],
   "source": [
    "import os\n",
    "os.chdir('./yolov5-master')"
   ]
  },
  {
   "cell_type": "code",
   "execution_count": 2,
   "metadata": {},
   "outputs": [
    {
     "name": "stdout",
     "output_type": "stream",
     "text": [
      "^C\n"
     ]
    }
   ],
   "source": [
    "!python train.py --img 640 --batch 24 --epochs 225 --data ../Datasets/COCO/train/COCOTraining.yaml --weights yolov5m.pt --cache"
   ]
  },
  {
   "cell_type": "code",
   "execution_count": 7,
   "metadata": {},
   "outputs": [
    {
     "name": "stdout",
     "output_type": "stream",
     "text": [
      "^C\n"
     ]
    }
   ],
   "source": [
    "!tensorboard --logdir runs\\train"
   ]
  },
  {
   "cell_type": "code",
   "execution_count": null,
   "metadata": {},
   "outputs": [],
   "source": []
  }
 ],
 "metadata": {
  "kernelspec": {
   "display_name": "yolo",
   "language": "python",
   "name": "python3"
  },
  "language_info": {
   "codemirror_mode": {
    "name": "ipython",
    "version": 3
   },
   "file_extension": ".py",
   "mimetype": "text/x-python",
   "name": "python",
   "nbconvert_exporter": "python",
   "pygments_lexer": "ipython3",
   "version": "3.10.12"
  },
  "orig_nbformat": 4
 },
 "nbformat": 4,
 "nbformat_minor": 2
}
