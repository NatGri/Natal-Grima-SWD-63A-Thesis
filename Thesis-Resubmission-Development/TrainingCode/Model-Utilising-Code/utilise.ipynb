{
 "cells": [
  {
   "cell_type": "code",
   "execution_count": 1,
   "metadata": {},
   "outputs": [
    {
     "name": "stdout",
     "output_type": "stream",
     "text": [
      "Requirement already satisfied: torch in c:\\users\\natal\\anaconda3\\envs\\yolo\\lib\\site-packages (2.0.1)\n",
      "Requirement already satisfied: torchvision in c:\\users\\natal\\anaconda3\\envs\\yolo\\lib\\site-packages (0.15.2)\n",
      "Requirement already satisfied: filelock in c:\\users\\natal\\anaconda3\\envs\\yolo\\lib\\site-packages (from torch) (3.9.0)\n",
      "Requirement already satisfied: typing-extensions in c:\\users\\natal\\anaconda3\\envs\\yolo\\lib\\site-packages (from torch) (4.6.3)\n",
      "Requirement already satisfied: sympy in c:\\users\\natal\\anaconda3\\envs\\yolo\\lib\\site-packages (from torch) (1.11.1)\n",
      "Requirement already satisfied: networkx in c:\\users\\natal\\anaconda3\\envs\\yolo\\lib\\site-packages (from torch) (2.8.4)\n",
      "Requirement already satisfied: jinja2 in c:\\users\\natal\\anaconda3\\envs\\yolo\\lib\\site-packages (from torch) (3.1.2)\n",
      "Requirement already satisfied: numpy in c:\\users\\natal\\anaconda3\\envs\\yolo\\lib\\site-packages (from torchvision) (1.23.5)\n",
      "Requirement already satisfied: requests in c:\\users\\natal\\anaconda3\\envs\\yolo\\lib\\site-packages (from torchvision) (2.29.0)\n",
      "Requirement already satisfied: pillow!=8.3.*,>=5.3.0 in c:\\users\\natal\\anaconda3\\envs\\yolo\\lib\\site-packages (from torchvision) (9.4.0)\n",
      "Requirement already satisfied: MarkupSafe>=2.0 in c:\\users\\natal\\anaconda3\\envs\\yolo\\lib\\site-packages (from jinja2->torch) (2.1.1)\n",
      "Requirement already satisfied: charset-normalizer<4,>=2 in c:\\users\\natal\\anaconda3\\envs\\yolo\\lib\\site-packages (from requests->torchvision) (2.0.4)\n",
      "Requirement already satisfied: idna<4,>=2.5 in c:\\users\\natal\\anaconda3\\envs\\yolo\\lib\\site-packages (from requests->torchvision) (3.4)\n",
      "Requirement already satisfied: urllib3<1.27,>=1.21.1 in c:\\users\\natal\\anaconda3\\envs\\yolo\\lib\\site-packages (from requests->torchvision) (1.26.16)\n",
      "Requirement already satisfied: certifi>=2017.4.17 in c:\\users\\natal\\anaconda3\\envs\\yolo\\lib\\site-packages (from requests->torchvision) (2023.7.22)\n",
      "Requirement already satisfied: mpmath>=0.19 in c:\\users\\natal\\anaconda3\\envs\\yolo\\lib\\site-packages (from sympy->torch) (1.2.1)\n"
     ]
    }
   ],
   "source": [
    "! python -m pip install torch torchvision"
   ]
  },
  {
   "cell_type": "code",
   "execution_count": 4,
   "metadata": {},
   "outputs": [
    {
     "name": "stderr",
     "output_type": "stream",
     "text": [
      "Using cache found in C:\\Users\\Natal/.cache\\torch\\hub\\ultralytics_yolov5_master\n",
      "YOLOv5  2023-8-17 Python-3.10.12 torch-2.0.1 CUDA:0 (NVIDIA GeForce RTX 4070 Ti, 12282MiB)\n",
      "\n",
      "Fusing layers... \n",
      "Model summary: 212 layers, 20889303 parameters, 0 gradients, 48.0 GFLOPs\n",
      "Adding AutoShape... \n"
     ]
    },
    {
     "name": "stdout",
     "output_type": "stream",
     "text": [
      "image 1/1: 545x795 1 protein-bar\n",
      "Speed: 8.5ms pre-process, 48.4ms inference, 2.0ms NMS per image at shape (1, 3, 448, 640)\n"
     ]
    }
   ],
   "source": [
    "import torch\n",
    "# Loading in yolov5s - you can switch to larger models such as yolov5m or yolov5l, or smaller such as yolov5n\n",
    "model = torch.hub.load('ultralytics/yolov5', 'custom', path='../yolov5-master/runs/train/exp9/weights/best.pt')\n",
    "img = '../Datasets/Test-Images/Novel-Full/proBar.png'\n",
    "results = model(img)\n",
    "print(results)"
   ]
  },
  {
   "cell_type": "code",
   "execution_count": 26,
   "metadata": {},
   "outputs": [
    {
     "name": "stderr",
     "output_type": "stream",
     "text": [
      "Using cache found in C:\\Users\\Natal/.cache\\torch\\hub\\ultralytics_yolov5_master\n",
      "YOLOv5  2023-8-17 Python-3.10.12 torch-2.0.1 CUDA:0 (NVIDIA GeForce RTX 4070 Ti, 12282MiB)\n",
      "\n",
      "Fusing layers... \n",
      "Model summary: 212 layers, 20889303 parameters, 0 gradients, 48.0 GFLOPs\n",
      "Adding AutoShape... \n",
      "image 1/1: 1536x2048 5 apples, 1 banana, 3 oranges\n",
      "Speed: 41.5ms pre-process, 49.6ms inference, 2.0ms NMS per image at shape (1, 3, 480, 640)\n"
     ]
    },
    {
     "data": {
      "text/html": [
       "<div>\n",
       "<style scoped>\n",
       "    .dataframe tbody tr th:only-of-type {\n",
       "        vertical-align: middle;\n",
       "    }\n",
       "\n",
       "    .dataframe tbody tr th {\n",
       "        vertical-align: top;\n",
       "    }\n",
       "\n",
       "    .dataframe thead th {\n",
       "        text-align: right;\n",
       "    }\n",
       "</style>\n",
       "<table border=\"1\" class=\"dataframe\">\n",
       "  <thead>\n",
       "    <tr style=\"text-align: right;\">\n",
       "      <th></th>\n",
       "      <th>xmin</th>\n",
       "      <th>ymin</th>\n",
       "      <th>xmax</th>\n",
       "      <th>ymax</th>\n",
       "      <th>confidence</th>\n",
       "      <th>class</th>\n",
       "      <th>name</th>\n",
       "    </tr>\n",
       "  </thead>\n",
       "  <tbody>\n",
       "    <tr>\n",
       "      <th>0</th>\n",
       "      <td>423.106049</td>\n",
       "      <td>764.223999</td>\n",
       "      <td>699.387695</td>\n",
       "      <td>1042.289307</td>\n",
       "      <td>0.957416</td>\n",
       "      <td>0</td>\n",
       "      <td>apple</td>\n",
       "    </tr>\n",
       "    <tr>\n",
       "      <th>1</th>\n",
       "      <td>456.342926</td>\n",
       "      <td>580.404358</td>\n",
       "      <td>737.635498</td>\n",
       "      <td>812.917053</td>\n",
       "      <td>0.954563</td>\n",
       "      <td>0</td>\n",
       "      <td>apple</td>\n",
       "    </tr>\n",
       "    <tr>\n",
       "      <th>2</th>\n",
       "      <td>711.172363</td>\n",
       "      <td>627.053162</td>\n",
       "      <td>998.029419</td>\n",
       "      <td>860.182800</td>\n",
       "      <td>0.946011</td>\n",
       "      <td>0</td>\n",
       "      <td>apple</td>\n",
       "    </tr>\n",
       "    <tr>\n",
       "      <th>3</th>\n",
       "      <td>853.613892</td>\n",
       "      <td>362.106567</td>\n",
       "      <td>1083.021729</td>\n",
       "      <td>573.776855</td>\n",
       "      <td>0.935397</td>\n",
       "      <td>3</td>\n",
       "      <td>orange</td>\n",
       "    </tr>\n",
       "    <tr>\n",
       "      <th>4</th>\n",
       "      <td>921.012878</td>\n",
       "      <td>550.832458</td>\n",
       "      <td>1118.487671</td>\n",
       "      <td>762.422791</td>\n",
       "      <td>0.934450</td>\n",
       "      <td>3</td>\n",
       "      <td>orange</td>\n",
       "    </tr>\n",
       "    <tr>\n",
       "      <th>5</th>\n",
       "      <td>1070.213135</td>\n",
       "      <td>581.275818</td>\n",
       "      <td>1320.277710</td>\n",
       "      <td>742.208313</td>\n",
       "      <td>0.932859</td>\n",
       "      <td>0</td>\n",
       "      <td>apple</td>\n",
       "    </tr>\n",
       "    <tr>\n",
       "      <th>6</th>\n",
       "      <td>1068.011108</td>\n",
       "      <td>406.298584</td>\n",
       "      <td>1290.427368</td>\n",
       "      <td>608.904846</td>\n",
       "      <td>0.928679</td>\n",
       "      <td>3</td>\n",
       "      <td>orange</td>\n",
       "    </tr>\n",
       "    <tr>\n",
       "      <th>7</th>\n",
       "      <td>535.406372</td>\n",
       "      <td>441.898895</td>\n",
       "      <td>1597.799927</td>\n",
       "      <td>1328.305542</td>\n",
       "      <td>0.928337</td>\n",
       "      <td>1</td>\n",
       "      <td>banana</td>\n",
       "    </tr>\n",
       "    <tr>\n",
       "      <th>8</th>\n",
       "      <td>663.622009</td>\n",
       "      <td>491.150208</td>\n",
       "      <td>906.237122</td>\n",
       "      <td>685.000488</td>\n",
       "      <td>0.919747</td>\n",
       "      <td>0</td>\n",
       "      <td>apple</td>\n",
       "    </tr>\n",
       "  </tbody>\n",
       "</table>\n",
       "</div>"
      ],
      "text/plain": [
       "          xmin        ymin         xmax         ymax  confidence  class  \\\n",
       "0   423.106049  764.223999   699.387695  1042.289307    0.957416      0   \n",
       "1   456.342926  580.404358   737.635498   812.917053    0.954563      0   \n",
       "2   711.172363  627.053162   998.029419   860.182800    0.946011      0   \n",
       "3   853.613892  362.106567  1083.021729   573.776855    0.935397      3   \n",
       "4   921.012878  550.832458  1118.487671   762.422791    0.934450      3   \n",
       "5  1070.213135  581.275818  1320.277710   742.208313    0.932859      0   \n",
       "6  1068.011108  406.298584  1290.427368   608.904846    0.928679      3   \n",
       "7   535.406372  441.898895  1597.799927  1328.305542    0.928337      1   \n",
       "8   663.622009  491.150208   906.237122   685.000488    0.919747      0   \n",
       "\n",
       "     name  \n",
       "0   apple  \n",
       "1   apple  \n",
       "2   apple  \n",
       "3  orange  \n",
       "4  orange  \n",
       "5   apple  \n",
       "6  orange  \n",
       "7  banana  \n",
       "8   apple  "
      ]
     },
     "execution_count": 26,
     "metadata": {},
     "output_type": "execute_result"
    }
   ],
   "source": [
    "import torch\n",
    "\n",
    "# Model\n",
    "model = torch.hub.load('ultralytics/yolov5', 'custom', path='../yolov5-master/runs/train/exp9/weights/best.pt')  # or yolov5m, yolov5l, yolov5x, etc.\n",
    "# model = torch.hub.load('ultralytics/yolov5', 'custom', 'path/to/best.pt')  # custom trained model\n",
    "\n",
    "# Images\n",
    "im = '../Datasets/Test-Images/Novel-Full/multiImage.jpg'  # or file, Path, URL, PIL, OpenCV, numpy, list\n",
    "\n",
    "# Inference\n",
    "results = model(im)\n",
    "\n",
    "# Results\n",
    "results.print()  # or .show(), .save(), .crop(), .pandas(), etc.\n",
    "\n",
    "results.xyxy[0]  # im predictions (tensor)\n",
    "results.pandas().xyxy[0]  # im predictions (pandas)\n",
    "#      xmin    ymin    xmax   ymax  confidence  class    name\n",
    "# 0  749.50   43.50  1148.0  704.5    0.874023      0  person\n",
    "# 2  114.75  195.75  1095.0  708.0    0.624512      0  person\n",
    "# 3  986.00  304.00  1028.0  420.0    0.286865     27     tie"
   ]
  },
  {
   "cell_type": "code",
   "execution_count": 31,
   "metadata": {},
   "outputs": [
    {
     "name": "stdout",
     "output_type": "stream",
     "text": [
      "['apple' 'orange' 'banana']\n"
     ]
    }
   ],
   "source": [
    "data = results.pandas().xyxy[0]\n",
    "\n",
    "unique_names = data['name'].unique()\n",
    "\n",
    "# Now unique_names contains an array of unique names\n",
    "print(unique_names)"
   ]
  },
  {
   "cell_type": "code",
   "execution_count": 29,
   "metadata": {},
   "outputs": [
    {
     "name": "stdout",
     "output_type": "stream",
     "text": [
      "Bounding Box Coordinates:\n",
      "xmin: 423.1060485839844\n",
      "ymin: 764.2239990234375\n",
      "xmax: 699.3876953125\n",
      "ymax: 1042.289306640625\n",
      "Confidence: 0.9574159383773804\n",
      "Class ID: 0\n",
      "Name: apple\n"
     ]
    }
   ],
   "source": [
    "# Get the bounding box coordinates and information\n",
    "bounding_box_info = results.pandas().xyxy[0]\n",
    "\n",
    "# Convert the Pandas Series to a dictionary\n",
    "bounding_box_dict = bounding_box_info.to_dict()\n",
    "\n",
    "# Access the values without indices\n",
    "bounding_box_values = bounding_box_dict.values()\n",
    "\n",
    "# Convert the values to a list for easier access\n",
    "bounding_box_list = list(bounding_box_values)\n",
    "\n",
    "# Extract individual fields\n",
    "xmin = bounding_box_list[0]\n",
    "ymin = bounding_box_list[1]\n",
    "xmax = bounding_box_list[2]\n",
    "ymax = bounding_box_list[3]\n",
    "confidence = bounding_box_list[4]\n",
    "class_id = bounding_box_list[5]\n",
    "name = bounding_box_list[6]\n",
    "\n",
    "# Actual items\n",
    "xmin = xmin[0]\n",
    "ymin = ymin[0]\n",
    "xmax = xmax[0]\n",
    "ymax = ymax[0]\n",
    "confidence = confidence[0]\n",
    "class_id = class_id[0]\n",
    "name = name[0]\n",
    "\n",
    "print(\"Bounding Box Coordinates:\")\n",
    "print(\"xmin:\", xmin)\n",
    "print(\"ymin:\", ymin)\n",
    "print(\"xmax:\", xmax)\n",
    "print(\"ymax:\", ymax)\n",
    "print(\"Confidence:\", confidence)\n",
    "print(\"Class ID:\", class_id)\n",
    "print(\"Name:\", name)"
   ]
  },
  {
   "cell_type": "code",
   "execution_count": null,
   "metadata": {},
   "outputs": [],
   "source": []
  }
 ],
 "metadata": {
  "kernelspec": {
   "display_name": "yolo",
   "language": "python",
   "name": "python3"
  },
  "language_info": {
   "codemirror_mode": {
    "name": "ipython",
    "version": 3
   },
   "file_extension": ".py",
   "mimetype": "text/x-python",
   "name": "python",
   "nbconvert_exporter": "python",
   "pygments_lexer": "ipython3",
   "version": "3.10.12"
  },
  "orig_nbformat": 4
 },
 "nbformat": 4,
 "nbformat_minor": 2
}
