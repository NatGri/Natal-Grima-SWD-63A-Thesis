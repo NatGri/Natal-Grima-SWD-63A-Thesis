{
 "cells": [
  {
   "cell_type": "markdown",
   "metadata": {},
   "source": [
    "# Training Code:\n"
   ]
  },
  {
   "cell_type": "code",
   "execution_count": 5,
   "metadata": {},
   "outputs": [],
   "source": [
    "import os\n",
    "os.chdir('../yolov7-main/')"
   ]
  },
  {
   "cell_type": "code",
   "execution_count": 6,
   "metadata": {},
   "outputs": [
    {
     "name": "stdout",
     "output_type": "stream",
     "text": [
      "Requirement already satisfied: matplotlib>=3.2.2 in c:\\users\\natal\\anaconda3\\envs\\yolov7-alvin\\lib\\site-packages (from -r requirements.txt (line 4)) (3.7.1)\n",
      "Requirement already satisfied: numpy<1.24.0,>=1.18.5 in c:\\users\\natal\\anaconda3\\envs\\yolov7-alvin\\lib\\site-packages (from -r requirements.txt (line 5)) (1.23.5)\n",
      "Requirement already satisfied: opencv-python>=4.1.1 in c:\\users\\natal\\anaconda3\\envs\\yolov7-alvin\\lib\\site-packages (from -r requirements.txt (line 6)) (4.8.0.74)\n",
      "Requirement already satisfied: Pillow>=7.1.2 in c:\\users\\natal\\anaconda3\\envs\\yolov7-alvin\\lib\\site-packages (from -r requirements.txt (line 7)) (9.4.0)\n",
      "Requirement already satisfied: PyYAML>=5.3.1 in c:\\users\\natal\\anaconda3\\envs\\yolov7-alvin\\lib\\site-packages (from -r requirements.txt (line 8)) (6.0.1)\n",
      "Requirement already satisfied: requests>=2.23.0 in c:\\users\\natal\\anaconda3\\envs\\yolov7-alvin\\lib\\site-packages (from -r requirements.txt (line 9)) (2.29.0)\n",
      "Requirement already satisfied: scipy>=1.4.1 in c:\\users\\natal\\anaconda3\\envs\\yolov7-alvin\\lib\\site-packages (from -r requirements.txt (line 10)) (1.11.1)\n",
      "Requirement already satisfied: torch!=1.12.0,>=1.7.0 in c:\\users\\natal\\anaconda3\\envs\\yolov7-alvin\\lib\\site-packages (from -r requirements.txt (line 11)) (2.0.1)\n",
      "Requirement already satisfied: torchvision!=0.13.0,>=0.8.1 in c:\\users\\natal\\anaconda3\\envs\\yolov7-alvin\\lib\\site-packages (from -r requirements.txt (line 12)) (0.15.2)\n",
      "Requirement already satisfied: tqdm>=4.41.0 in c:\\users\\natal\\anaconda3\\envs\\yolov7-alvin\\lib\\site-packages (from -r requirements.txt (line 13)) (4.65.0)\n",
      "Requirement already satisfied: protobuf<4.21.3 in c:\\users\\natal\\anaconda3\\envs\\yolov7-alvin\\lib\\site-packages (from -r requirements.txt (line 14)) (3.19.6)\n",
      "Requirement already satisfied: tensorboard>=2.4.1 in c:\\users\\natal\\anaconda3\\envs\\yolov7-alvin\\lib\\site-packages (from -r requirements.txt (line 17)) (2.10.1)\n",
      "Requirement already satisfied: pandas>=1.1.4 in c:\\users\\natal\\anaconda3\\envs\\yolov7-alvin\\lib\\site-packages (from -r requirements.txt (line 21)) (2.0.3)\n",
      "Requirement already satisfied: seaborn>=0.11.0 in c:\\users\\natal\\anaconda3\\envs\\yolov7-alvin\\lib\\site-packages (from -r requirements.txt (line 22)) (0.12.2)\n",
      "Requirement already satisfied: ipython in c:\\users\\natal\\anaconda3\\envs\\yolov7-alvin\\lib\\site-packages (from -r requirements.txt (line 34)) (8.14.0)\n",
      "Requirement already satisfied: psutil in c:\\users\\natal\\anaconda3\\envs\\yolov7-alvin\\lib\\site-packages (from -r requirements.txt (line 35)) (5.9.0)\n",
      "Requirement already satisfied: thop in c:\\users\\natal\\anaconda3\\envs\\yolov7-alvin\\lib\\site-packages (from -r requirements.txt (line 36)) (0.1.1.post2209072238)\n",
      "Requirement already satisfied: contourpy>=1.0.1 in c:\\users\\natal\\anaconda3\\envs\\yolov7-alvin\\lib\\site-packages (from matplotlib>=3.2.2->-r requirements.txt (line 4)) (1.1.0)\n",
      "Requirement already satisfied: cycler>=0.10 in c:\\users\\natal\\anaconda3\\envs\\yolov7-alvin\\lib\\site-packages (from matplotlib>=3.2.2->-r requirements.txt (line 4)) (0.11.0)\n",
      "Requirement already satisfied: fonttools>=4.22.0 in c:\\users\\natal\\anaconda3\\envs\\yolov7-alvin\\lib\\site-packages (from matplotlib>=3.2.2->-r requirements.txt (line 4)) (4.41.0)\n",
      "Requirement already satisfied: kiwisolver>=1.0.1 in c:\\users\\natal\\anaconda3\\envs\\yolov7-alvin\\lib\\site-packages (from matplotlib>=3.2.2->-r requirements.txt (line 4)) (1.4.4)\n",
      "Requirement already satisfied: packaging>=20.0 in c:\\users\\natal\\anaconda3\\envs\\yolov7-alvin\\lib\\site-packages (from matplotlib>=3.2.2->-r requirements.txt (line 4)) (23.1)\n",
      "Requirement already satisfied: pyparsing>=2.3.1 in c:\\users\\natal\\anaconda3\\envs\\yolov7-alvin\\lib\\site-packages (from matplotlib>=3.2.2->-r requirements.txt (line 4)) (3.0.9)\n",
      "Requirement already satisfied: python-dateutil>=2.7 in c:\\users\\natal\\anaconda3\\envs\\yolov7-alvin\\lib\\site-packages (from matplotlib>=3.2.2->-r requirements.txt (line 4)) (2.8.2)\n",
      "Requirement already satisfied: charset-normalizer<4,>=2 in c:\\users\\natal\\anaconda3\\envs\\yolov7-alvin\\lib\\site-packages (from requests>=2.23.0->-r requirements.txt (line 9)) (2.0.4)\n",
      "Requirement already satisfied: idna<4,>=2.5 in c:\\users\\natal\\anaconda3\\envs\\yolov7-alvin\\lib\\site-packages (from requests>=2.23.0->-r requirements.txt (line 9)) (3.4)\n",
      "Requirement already satisfied: urllib3<1.27,>=1.21.1 in c:\\users\\natal\\anaconda3\\envs\\yolov7-alvin\\lib\\site-packages (from requests>=2.23.0->-r requirements.txt (line 9)) (1.26.16)\n",
      "Requirement already satisfied: certifi>=2017.4.17 in c:\\users\\natal\\anaconda3\\envs\\yolov7-alvin\\lib\\site-packages (from requests>=2.23.0->-r requirements.txt (line 9)) (2023.7.22)\n",
      "Requirement already satisfied: filelock in c:\\users\\natal\\anaconda3\\envs\\yolov7-alvin\\lib\\site-packages (from torch!=1.12.0,>=1.7.0->-r requirements.txt (line 11)) (3.9.0)\n",
      "Requirement already satisfied: typing-extensions in c:\\users\\natal\\anaconda3\\envs\\yolov7-alvin\\lib\\site-packages (from torch!=1.12.0,>=1.7.0->-r requirements.txt (line 11)) (4.6.3)\n",
      "Requirement already satisfied: sympy in c:\\users\\natal\\anaconda3\\envs\\yolov7-alvin\\lib\\site-packages (from torch!=1.12.0,>=1.7.0->-r requirements.txt (line 11)) (1.11.1)\n",
      "Requirement already satisfied: networkx in c:\\users\\natal\\anaconda3\\envs\\yolov7-alvin\\lib\\site-packages (from torch!=1.12.0,>=1.7.0->-r requirements.txt (line 11)) (2.8.4)\n",
      "Requirement already satisfied: jinja2 in c:\\users\\natal\\anaconda3\\envs\\yolov7-alvin\\lib\\site-packages (from torch!=1.12.0,>=1.7.0->-r requirements.txt (line 11)) (3.1.2)\n",
      "Requirement already satisfied: colorama in c:\\users\\natal\\anaconda3\\envs\\yolov7-alvin\\lib\\site-packages (from tqdm>=4.41.0->-r requirements.txt (line 13)) (0.4.6)\n",
      "Requirement already satisfied: absl-py>=0.4 in c:\\users\\natal\\anaconda3\\envs\\yolov7-alvin\\lib\\site-packages (from tensorboard>=2.4.1->-r requirements.txt (line 17)) (1.4.0)\n",
      "Requirement already satisfied: grpcio>=1.24.3 in c:\\users\\natal\\anaconda3\\envs\\yolov7-alvin\\lib\\site-packages (from tensorboard>=2.4.1->-r requirements.txt (line 17)) (1.56.0)\n",
      "Requirement already satisfied: google-auth<3,>=1.6.3 in c:\\users\\natal\\anaconda3\\envs\\yolov7-alvin\\lib\\site-packages (from tensorboard>=2.4.1->-r requirements.txt (line 17)) (2.22.0)\n",
      "Requirement already satisfied: google-auth-oauthlib<0.5,>=0.4.1 in c:\\users\\natal\\anaconda3\\envs\\yolov7-alvin\\lib\\site-packages (from tensorboard>=2.4.1->-r requirements.txt (line 17)) (0.4.6)\n",
      "Requirement already satisfied: markdown>=2.6.8 in c:\\users\\natal\\anaconda3\\envs\\yolov7-alvin\\lib\\site-packages (from tensorboard>=2.4.1->-r requirements.txt (line 17)) (3.4.3)\n",
      "Requirement already satisfied: setuptools>=41.0.0 in c:\\users\\natal\\anaconda3\\envs\\yolov7-alvin\\lib\\site-packages (from tensorboard>=2.4.1->-r requirements.txt (line 17)) (67.8.0)\n",
      "Requirement already satisfied: tensorboard-data-server<0.7.0,>=0.6.0 in c:\\users\\natal\\anaconda3\\envs\\yolov7-alvin\\lib\\site-packages (from tensorboard>=2.4.1->-r requirements.txt (line 17)) (0.6.1)\n",
      "Requirement already satisfied: tensorboard-plugin-wit>=1.6.0 in c:\\users\\natal\\anaconda3\\envs\\yolov7-alvin\\lib\\site-packages (from tensorboard>=2.4.1->-r requirements.txt (line 17)) (1.8.1)\n",
      "Requirement already satisfied: werkzeug>=1.0.1 in c:\\users\\natal\\anaconda3\\envs\\yolov7-alvin\\lib\\site-packages (from tensorboard>=2.4.1->-r requirements.txt (line 17)) (2.3.6)\n",
      "Requirement already satisfied: wheel>=0.26 in c:\\users\\natal\\anaconda3\\envs\\yolov7-alvin\\lib\\site-packages (from tensorboard>=2.4.1->-r requirements.txt (line 17)) (0.38.4)\n",
      "Requirement already satisfied: pytz>=2020.1 in c:\\users\\natal\\anaconda3\\envs\\yolov7-alvin\\lib\\site-packages (from pandas>=1.1.4->-r requirements.txt (line 21)) (2023.3)\n",
      "Requirement already satisfied: tzdata>=2022.1 in c:\\users\\natal\\anaconda3\\envs\\yolov7-alvin\\lib\\site-packages (from pandas>=1.1.4->-r requirements.txt (line 21)) (2023.3)\n",
      "Requirement already satisfied: backcall in c:\\users\\natal\\anaconda3\\envs\\yolov7-alvin\\lib\\site-packages (from ipython->-r requirements.txt (line 34)) (0.2.0)\n",
      "Requirement already satisfied: decorator in c:\\users\\natal\\anaconda3\\envs\\yolov7-alvin\\lib\\site-packages (from ipython->-r requirements.txt (line 34)) (5.1.1)\n",
      "Requirement already satisfied: jedi>=0.16 in c:\\users\\natal\\anaconda3\\envs\\yolov7-alvin\\lib\\site-packages (from ipython->-r requirements.txt (line 34)) (0.18.2)\n",
      "Requirement already satisfied: matplotlib-inline in c:\\users\\natal\\anaconda3\\envs\\yolov7-alvin\\lib\\site-packages (from ipython->-r requirements.txt (line 34)) (0.1.6)\n",
      "Requirement already satisfied: pickleshare in c:\\users\\natal\\anaconda3\\envs\\yolov7-alvin\\lib\\site-packages (from ipython->-r requirements.txt (line 34)) (0.7.5)\n",
      "Requirement already satisfied: prompt-toolkit!=3.0.37,<3.1.0,>=3.0.30 in c:\\users\\natal\\anaconda3\\envs\\yolov7-alvin\\lib\\site-packages (from ipython->-r requirements.txt (line 34)) (3.0.39)\n",
      "Requirement already satisfied: pygments>=2.4.0 in c:\\users\\natal\\anaconda3\\envs\\yolov7-alvin\\lib\\site-packages (from ipython->-r requirements.txt (line 34)) (2.15.1)\n",
      "Requirement already satisfied: stack-data in c:\\users\\natal\\anaconda3\\envs\\yolov7-alvin\\lib\\site-packages (from ipython->-r requirements.txt (line 34)) (0.6.2)\n",
      "Requirement already satisfied: traitlets>=5 in c:\\users\\natal\\anaconda3\\envs\\yolov7-alvin\\lib\\site-packages (from ipython->-r requirements.txt (line 34)) (5.9.0)\n",
      "Requirement already satisfied: cachetools<6.0,>=2.0.0 in c:\\users\\natal\\anaconda3\\envs\\yolov7-alvin\\lib\\site-packages (from google-auth<3,>=1.6.3->tensorboard>=2.4.1->-r requirements.txt (line 17)) (5.3.1)\n",
      "Requirement already satisfied: pyasn1-modules>=0.2.1 in c:\\users\\natal\\anaconda3\\envs\\yolov7-alvin\\lib\\site-packages (from google-auth<3,>=1.6.3->tensorboard>=2.4.1->-r requirements.txt (line 17)) (0.3.0)\n",
      "Requirement already satisfied: rsa<5,>=3.1.4 in c:\\users\\natal\\anaconda3\\envs\\yolov7-alvin\\lib\\site-packages (from google-auth<3,>=1.6.3->tensorboard>=2.4.1->-r requirements.txt (line 17)) (4.9)\n",
      "Requirement already satisfied: six>=1.9.0 in c:\\users\\natal\\anaconda3\\envs\\yolov7-alvin\\lib\\site-packages (from google-auth<3,>=1.6.3->tensorboard>=2.4.1->-r requirements.txt (line 17)) (1.16.0)\n",
      "Requirement already satisfied: requests-oauthlib>=0.7.0 in c:\\users\\natal\\anaconda3\\envs\\yolov7-alvin\\lib\\site-packages (from google-auth-oauthlib<0.5,>=0.4.1->tensorboard>=2.4.1->-r requirements.txt (line 17)) (1.3.1)\n",
      "Requirement already satisfied: parso<0.9.0,>=0.8.0 in c:\\users\\natal\\anaconda3\\envs\\yolov7-alvin\\lib\\site-packages (from jedi>=0.16->ipython->-r requirements.txt (line 34)) (0.8.3)\n",
      "Requirement already satisfied: wcwidth in c:\\users\\natal\\anaconda3\\envs\\yolov7-alvin\\lib\\site-packages (from prompt-toolkit!=3.0.37,<3.1.0,>=3.0.30->ipython->-r requirements.txt (line 34)) (0.2.6)\n",
      "Requirement already satisfied: MarkupSafe>=2.1.1 in c:\\users\\natal\\anaconda3\\envs\\yolov7-alvin\\lib\\site-packages (from werkzeug>=1.0.1->tensorboard>=2.4.1->-r requirements.txt (line 17)) (2.1.1)\n",
      "Requirement already satisfied: executing>=1.2.0 in c:\\users\\natal\\anaconda3\\envs\\yolov7-alvin\\lib\\site-packages (from stack-data->ipython->-r requirements.txt (line 34)) (1.2.0)\n",
      "Requirement already satisfied: asttokens>=2.1.0 in c:\\users\\natal\\anaconda3\\envs\\yolov7-alvin\\lib\\site-packages (from stack-data->ipython->-r requirements.txt (line 34)) (2.2.1)\n",
      "Requirement already satisfied: pure-eval in c:\\users\\natal\\anaconda3\\envs\\yolov7-alvin\\lib\\site-packages (from stack-data->ipython->-r requirements.txt (line 34)) (0.2.2)\n",
      "Requirement already satisfied: mpmath>=0.19 in c:\\users\\natal\\anaconda3\\envs\\yolov7-alvin\\lib\\site-packages (from sympy->torch!=1.12.0,>=1.7.0->-r requirements.txt (line 11)) (1.2.1)\n",
      "Requirement already satisfied: pyasn1<0.6.0,>=0.4.6 in c:\\users\\natal\\anaconda3\\envs\\yolov7-alvin\\lib\\site-packages (from pyasn1-modules>=0.2.1->google-auth<3,>=1.6.3->tensorboard>=2.4.1->-r requirements.txt (line 17)) (0.5.0)\n",
      "Requirement already satisfied: oauthlib>=3.0.0 in c:\\users\\natal\\anaconda3\\envs\\yolov7-alvin\\lib\\site-packages (from requests-oauthlib>=0.7.0->google-auth-oauthlib<0.5,>=0.4.1->tensorboard>=2.4.1->-r requirements.txt (line 17)) (3.2.2)\n"
     ]
    }
   ],
   "source": [
    "!pip install -r requirements.txt"
   ]
  },
  {
   "cell_type": "code",
   "execution_count": 9,
   "metadata": {},
   "outputs": [
    {
     "name": "stderr",
     "output_type": "stream",
     "text": [
      "wandb: Appending key for api.wandb.ai to your netrc file: C:\\Users\\Natal/.netrc\n"
     ]
    }
   ],
   "source": [
    "!wandb login 07a235d7b4f78a14c154e4d1cff4de87aaacf3ac"
   ]
  },
  {
   "cell_type": "code",
   "execution_count": 11,
   "metadata": {},
   "outputs": [
    {
     "name": "stderr",
     "output_type": "stream",
     "text": [
      "wandb: No runs to be synced.\n",
      "wandb: NOTE: use wandb sync --clean to delete 1 synced runs from local directory.\n"
     ]
    }
   ],
   "source": [
    "!wandb sync"
   ]
  },
  {
   "cell_type": "code",
   "execution_count": 13,
   "metadata": {},
   "outputs": [
    {
     "name": "stdout",
     "output_type": "stream",
     "text": [
      "^C\n"
     ]
    }
   ],
   "source": [
    "!python train.py --img 640 --batch 16 --epochs 80 --data ../Datasets/mycoco.yaml --weights yolov7.pt --cache"
   ]
  }
 ],
 "metadata": {
  "kernelspec": {
   "display_name": "yolo",
   "language": "python",
   "name": "python3"
  },
  "language_info": {
   "codemirror_mode": {
    "name": "ipython",
    "version": 3
   },
   "file_extension": ".py",
   "mimetype": "text/x-python",
   "name": "python",
   "nbconvert_exporter": "python",
   "pygments_lexer": "ipython3",
   "version": "3.10.12"
  },
  "orig_nbformat": 4
 },
 "nbformat": 4,
 "nbformat_minor": 2
}
