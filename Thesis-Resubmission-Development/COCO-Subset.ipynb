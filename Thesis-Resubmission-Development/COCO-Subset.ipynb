{
 "cells": [
  {
   "cell_type": "code",
   "execution_count": 1,
   "metadata": {},
   "outputs": [
    {
     "name": "stdout",
     "output_type": "stream",
     "text": [
      "Downloading split 'train' to 'C:\\Users\\Natal\\fiftyone\\coco-2017\\train' if necessary\n",
      "Downloading annotations to 'C:\\Users\\Natal\\fiftyone\\coco-2017\\tmp-download\\annotations_trainval2017.zip'\n",
      " 100% |██████|    1.9Gb/1.9Gb [26.3s elapsed, 0s remaining, 149.9Mb/s]      \n",
      "Extracting annotations to 'C:\\Users\\Natal\\fiftyone\\coco-2017\\raw\\instances_train2017.json'\n",
      "Downloading 5614 images\n",
      " 100% |████████████████| 5614/5614 [4.8m elapsed, 0s remaining, 8.9 images/s]       \n",
      "Writing annotations for 5614 downloaded samples to 'C:\\Users\\Natal\\fiftyone\\coco-2017\\train\\labels.json'\n",
      "Dataset info written to 'C:\\Users\\Natal\\fiftyone\\coco-2017\\info.json'\n",
      "Loading existing dataset 'coco-2017-train'. To reload from disk, either delete the existing dataset or provide a custom `dataset_name` to use\n"
     ]
    }
   ],
   "source": [
    "import fiftyone.zoo as foz\n",
    "\n",
    "dataset = foz.load_zoo_dataset(\n",
    "    \"coco-2017\",\n",
    "    split=\"train\",\n",
    "    label_types=\"detections\",\n",
    "    classes=[\"apple\", \"banana\", \"orange\", \"carrot\"],\n",
    ")"
   ]
  },
  {
   "cell_type": "code",
   "execution_count": null,
   "metadata": {},
   "outputs": [],
   "source": [
    "import fiftyone as fo\n",
    "session = fo.launch_app(dataset)"
   ]
  },
  {
   "cell_type": "code",
   "execution_count": 2,
   "metadata": {},
   "outputs": [
    {
     "name": "stdout",
     "output_type": "stream",
     "text": [
      "Downloading split 'validation' to 'C:\\Users\\Natal\\fiftyone\\coco-2017\\validation' if necessary\n",
      "Found annotations at 'C:\\Users\\Natal\\fiftyone\\coco-2017\\raw\\instances_val2017.json'\n",
      "Downloading 268 images\n",
      " 100% |██████████████████| 268/268 [14.5s elapsed, 0s remaining, 15.6 images/s]      \n",
      "Writing annotations for 268 downloaded samples to 'C:\\Users\\Natal\\fiftyone\\coco-2017\\validation\\labels.json'\n",
      "Dataset info written to 'C:\\Users\\Natal\\fiftyone\\coco-2017\\info.json'\n",
      "Loading 'coco-2017' split 'validation'\n",
      " 100% |█████████████████| 268/268 [1.1s elapsed, 0s remaining, 250.4 samples/s]         \n",
      "Dataset 'coco-2017-validation' created\n"
     ]
    }
   ],
   "source": [
    "import fiftyone.zoo as foz\n",
    "\n",
    "dataset = foz.load_zoo_dataset(\n",
    "    \"coco-2017\",\n",
    "    split=\"validation\",\n",
    "    label_types=\"detections\",\n",
    "    classes=[\"apple\", \"banana\", \"orange\", \"carrot\"],\n",
    ")"
   ]
  },
  {
   "cell_type": "code",
   "execution_count": null,
   "metadata": {},
   "outputs": [],
   "source": []
  }
 ],
 "metadata": {
  "kernelspec": {
   "display_name": "yolo",
   "language": "python",
   "name": "python3"
  },
  "language_info": {
   "codemirror_mode": {
    "name": "ipython",
    "version": 3
   },
   "file_extension": ".py",
   "mimetype": "text/x-python",
   "name": "python",
   "nbconvert_exporter": "python",
   "pygments_lexer": "ipython3",
   "version": "3.10.12"
  },
  "orig_nbformat": 4
 },
 "nbformat": 4,
 "nbformat_minor": 2
}
