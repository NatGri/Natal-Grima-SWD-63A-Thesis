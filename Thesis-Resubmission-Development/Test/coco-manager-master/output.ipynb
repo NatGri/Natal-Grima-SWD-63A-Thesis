{
 "cells": [
  {
   "cell_type": "code",
   "execution_count": 8,
   "metadata": {},
   "outputs": [
    {
     "name": "stdout",
     "output_type": "stream",
     "text": [
      "Loading json file...\n",
      "Processing input json...\n",
      "Filtering...\n",
      "Saving new json file...\n",
      "Filtered json saved.\n"
     ]
    }
   ],
   "source": [
    "#Training\n",
    "!python filter.py --input_json C:\\Users\\Natal\\fiftyone\\coco-2017\\train\\labels.json --output_json ../outputJson/trainingDataFiltered.json --categories apple banana orange carrot"
   ]
  },
  {
   "cell_type": "code",
   "execution_count": 9,
   "metadata": {},
   "outputs": [
    {
     "name": "stdout",
     "output_type": "stream",
     "text": [
      "Loading json file...\n",
      "Processing input json...\n",
      "Filtering...\n",
      "Saving new json file...\n",
      "Filtered json saved.\n"
     ]
    }
   ],
   "source": [
    "#Validation\n",
    "!python filter.py --input_json C:\\Users\\Natal\\fiftyone\\coco-2017\\validation\\labels.json --output_json ../outputJson/validationDataFiltered.json --categories apple banana orange carrot"
   ]
  },
  {
   "cell_type": "code",
   "execution_count": null,
   "metadata": {},
   "outputs": [],
   "source": []
  }
 ],
 "metadata": {
  "kernelspec": {
   "display_name": "yolo",
   "language": "python",
   "name": "python3"
  },
  "language_info": {
   "codemirror_mode": {
    "name": "ipython",
    "version": 3
   },
   "file_extension": ".py",
   "mimetype": "text/x-python",
   "name": "python",
   "nbconvert_exporter": "python",
   "pygments_lexer": "ipython3",
   "version": "3.10.12"
  },
  "orig_nbformat": 4
 },
 "nbformat": 4,
 "nbformat_minor": 2
}
